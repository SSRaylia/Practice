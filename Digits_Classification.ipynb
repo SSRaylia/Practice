{
  "nbformat": 4,
  "nbformat_minor": 0,
  "metadata": {
    "colab": {
      "name": "Digits Classification",
      "version": "0.3.2",
      "provenance": [],
      "collapsed_sections": [],
      "include_colab_link": true
    },
    "kernelspec": {
      "name": "python3",
      "display_name": "Python 3"
    }
  },
  "cells": [
    {
      "cell_type": "markdown",
      "metadata": {
        "id": "view-in-github",
        "colab_type": "text"
      },
      "source": [
        "<a href=\"https://colab.research.google.com/github/SSRaylia/Practice/blob/master/Digits_Classification.ipynb\" target=\"_parent\"><img src=\"https://colab.research.google.com/assets/colab-badge.svg\" alt=\"Open In Colab\"/></a>"
      ]
    },
    {
      "cell_type": "markdown",
      "metadata": {
        "id": "Kv6VAe-KLaGC",
        "colab_type": "text"
      },
      "source": [
        "# Classification\n",
        "\n",
        "This is sample code from our Machine Learning class on digits classification provided by Prof. Noah Gift.\n"
      ]
    },
    {
      "cell_type": "markdown",
      "metadata": {
        "id": "PzFZBmvRQ55d",
        "colab_type": "text"
      },
      "source": [
        "## Key Evaluation Terms"
      ]
    },
    {
      "cell_type": "markdown",
      "metadata": {
        "id": "-fPDHgYVUjcO",
        "colab_type": "text"
      },
      "source": [
        "\n",
        "\n",
        "*  [Amazon ML Key Classification Metrics](https://docs.aws.amazon.com/machine-learning/latest/dg/binary-model-insights.html?icmpid=docs_machinelearning_console)\n",
        "*  [sklearn classification metrics\n",
        "](https://scikit-learn.org/stable/modules/generated/sklearn.metrics.precision_recall_fscore_support.html)\n"
      ]
    },
    {
      "cell_type": "markdown",
      "metadata": {
        "id": "Q3oMU2XIRs-W",
        "colab_type": "text"
      },
      "source": [
        "\n",
        "\n",
        "*   **Precision**:  Measures the fraction of actual positives among those examples that are predicted as positive. The range is 0 to 1. A larger value indicates better predictive accuracy\n",
        "\n",
        "*  **Recall**:  Measures the fraction of actual positives that are predicted as positive. The range is 0 to 1. A larger value indicates better predictive accuracy\n",
        "\n",
        "*   **F1-score**:  Weighted average of recall and precision\n",
        "\n",
        "\n",
        "* **AUC**:  AUC measures the ability of the model to predict a higher score for positive examples as compared to negative examples\n",
        "\n",
        "* **False Positive Rat**e:  The false positive rate (FPR) measures the false alarm rate or the fraction of actual negatives that are predicted as positive. The range is 0 to 1. A smaller value indicates better predictive accuracy\n",
        "\n",
        "\n",
        "\n"
      ]
    },
    {
      "cell_type": "markdown",
      "metadata": {
        "id": "NVzRW0dRj_AU",
        "colab_type": "text"
      },
      "source": [
        "## Digits Dataset"
      ]
    },
    {
      "cell_type": "markdown",
      "metadata": {
        "id": "l8waByVoLf1o",
        "colab_type": "text"
      },
      "source": [
        "### sklearn modeling\n",
        "\n",
        "https://scikit-learn.org/stable/auto_examples/classification/plot_digits_classification.html"
      ]
    },
    {
      "cell_type": "code",
      "metadata": {
        "id": "0AgHIgakLiT9",
        "colab_type": "code",
        "outputId": "4a73d57e-f82c-407b-fcd9-c52671f14cd5",
        "colab": {
          "base_uri": "https://localhost:8080/",
          "height": 884
        }
      },
      "source": [
        "# Standard scientific Python imports\n",
        "import matplotlib.pyplot as plt\n",
        "\n",
        "# Import datasets, classifiers and performance metrics\n",
        "from sklearn import datasets, svm, metrics\n",
        "\n",
        "# The digits dataset\n",
        "digits = datasets.load_digits()\n",
        "\n",
        "# The data that we are interested in is made of 8x8 images of digits, let's\n",
        "# have a look at the first 4 images, stored in the `images` attribute of the\n",
        "# dataset.  If we were working from image files, we could load them using\n",
        "# matplotlib.pyplot.imread.  Note that each image must have the same size. For these\n",
        "# images, we know which digit they represent: it is given in the 'target' of\n",
        "# the dataset.\n",
        "images_and_labels = list(zip(digits.images, digits.target))\n",
        "for index, (image, label) in enumerate(images_and_labels[:4]):\n",
        "    plt.subplot(2, 4, index + 1)\n",
        "    plt.axis('off')\n",
        "    plt.imshow(image, cmap=plt.cm.gray_r, interpolation='nearest')\n",
        "    plt.title('Training: %i' % label)\n",
        "\n",
        "# To apply a classifier on this data, we need to flatten the image, to\n",
        "# turn the data in a (samples, feature) matrix:\n",
        "n_samples = len(digits.images)\n",
        "data = digits.images.reshape((n_samples, -1))\n",
        "\n",
        "# Create a classifier: a support vector classifier\n",
        "classifier = svm.SVC(gamma=0.001)\n",
        "\n",
        "# We learn the digits on the first half of the digits\n",
        "classifier.fit(data[:n_samples // 2], digits.target[:n_samples // 2])\n",
        "\n",
        "# Now predict the value of the digit on the second half:\n",
        "expected = digits.target[n_samples // 2:]\n",
        "predicted = classifier.predict(data[n_samples // 2:])\n",
        "\n",
        "print(\"Classification report for classifier %s:\\n%s\\n\"\n",
        "      % (classifier, metrics.classification_report(expected, predicted)))\n",
        "print(\"Confusion matrix:\\n%s\" % metrics.confusion_matrix(expected, predicted))\n",
        "\n",
        "images_and_predictions = list(zip(digits.images[n_samples // 2:], predicted))\n",
        "for index, (image, prediction) in enumerate(images_and_predictions[:4]):\n",
        "    plt.subplot(2, 4, index + 5)\n",
        "    plt.axis('off')\n",
        "    plt.imshow(image, cmap=plt.cm.gray_r, interpolation='nearest')\n",
        "    plt.title('Prediction: %i' % prediction)\n",
        "\n",
        "plt.show()"
      ],
      "execution_count": 0,
      "outputs": [
        {
          "output_type": "stream",
          "text": [
            "Classification report for classifier SVC(C=1.0, cache_size=200, class_weight=None, coef0=0.0,\n",
            "  decision_function_shape='ovr', degree=3, gamma=0.001, kernel='rbf',\n",
            "  max_iter=-1, probability=False, random_state=None, shrinking=True,\n",
            "  tol=0.001, verbose=False):\n",
            "              precision    recall  f1-score   support\n",
            "\n",
            "           0       1.00      0.99      0.99        88\n",
            "           1       0.99      0.97      0.98        91\n",
            "           2       0.99      0.99      0.99        86\n",
            "           3       0.98      0.87      0.92        91\n",
            "           4       0.99      0.96      0.97        92\n",
            "           5       0.95      0.97      0.96        91\n",
            "           6       0.99      0.99      0.99        91\n",
            "           7       0.96      0.99      0.97        89\n",
            "           8       0.94      1.00      0.97        88\n",
            "           9       0.93      0.98      0.95        92\n",
            "\n",
            "   micro avg       0.97      0.97      0.97       899\n",
            "   macro avg       0.97      0.97      0.97       899\n",
            "weighted avg       0.97      0.97      0.97       899\n",
            "\n",
            "\n",
            "Confusion matrix:\n",
            "[[87  0  0  0  1  0  0  0  0  0]\n",
            " [ 0 88  1  0  0  0  0  0  1  1]\n",
            " [ 0  0 85  1  0  0  0  0  0  0]\n",
            " [ 0  0  0 79  0  3  0  4  5  0]\n",
            " [ 0  0  0  0 88  0  0  0  0  4]\n",
            " [ 0  0  0  0  0 88  1  0  0  2]\n",
            " [ 0  1  0  0  0  0 90  0  0  0]\n",
            " [ 0  0  0  0  0  1  0 88  0  0]\n",
            " [ 0  0  0  0  0  0  0  0 88  0]\n",
            " [ 0  0  0  1  0  1  0  0  0 90]]\n"
          ],
          "name": "stdout"
        },
        {
          "output_type": "display_data",
          "data": {
            "image/png": "[encoded data removed]",
            "text/plain": [
              "<Figure size 576x396 with 8 Axes>"
            ]
          },
          "metadata": {
            "tags": []
          }
        }
      ]
    },
    {
      "cell_type": "markdown",
      "metadata": {
        "id": "ujNz02POjgca",
        "colab_type": "text"
      },
      "source": [
        "### Yellowbrick Confusion Matrix\n",
        "\n"
      ]
    },
    {
      "cell_type": "markdown",
      "metadata": {
        "id": "R4ZEVeb7jnrg",
        "colab_type": "text"
      },
      "source": [
        "http://www.scikit-yb.org/en/latest/api/classifier/confusion_matrix.html\n"
      ]
    },
    {
      "cell_type": "code",
      "metadata": {
        "id": "ukXqwLoXjcpv",
        "colab_type": "code",
        "colab": {}
      },
      "source": [
        "from sklearn.datasets import load_digits\n",
        "from sklearn.model_selection import train_test_split\n",
        "from sklearn.linear_model import LogisticRegression\n",
        "\n",
        "from yellowbrick.classifier import ConfusionMatrix"
      ],
      "execution_count": 0,
      "outputs": []
    },
    {
      "cell_type": "code",
      "metadata": {
        "id": "aclXoJQxjq_O",
        "colab_type": "code",
        "outputId": "65e5ab35-e8a0-4c10-d6e3-064da5e69a58",
        "colab": {
          "base_uri": "https://localhost:8080/",
          "height": 441
        }
      },
      "source": [
        "\n",
        "# We'll use the handwritten digits data set from scikit-learn.\n",
        "# Each feature of this dataset is an 8x8 pixel image of a handwritten number.\n",
        "# Digits.data converts these 64 pixels into a single array of features\n",
        "digits = load_digits()\n",
        "X = digits.data\n",
        "y = digits.target\n",
        "\n",
        "X_train, X_test, y_train, y_test = train_test_split(X, y, test_size =0.2, random_state=1)\n",
        "\n",
        "model = LogisticRegression()\n",
        "\n",
        "# The ConfusionMatrix visualizer taxes a model\n",
        "cm = ConfusionMatrix(model, classes=[0,1,2,3,4,5,6,7,8,9])\n",
        "\n",
        "# Fit fits the passed model. This is unnecessary if you pass the visualizer a pre-fitted model\n",
        "cm.fit(X_train, y_train)\n",
        "\n",
        "# To create the ConfusionMatrix, we need some test data. Score runs predict() on the data\n",
        "# and then creates the confusion_matrix from scikit-learn.\n",
        "cm.score(X_test, y_test)\n",
        "\n",
        "# How did we do?\n",
        "cm.poof()"
      ],
      "execution_count": 0,
      "outputs": [
        {
          "output_type": "stream",
          "text": [
            "/usr/local/lib/python3.6/dist-packages/sklearn/linear_model/logistic.py:433: FutureWarning: Default solver will be changed to 'lbfgs' in 0.22. Specify a solver to silence this warning.\n",
            "  FutureWarning)\n",
            "/usr/local/lib/python3.6/dist-packages/sklearn/linear_model/logistic.py:460: FutureWarning: Default multi_class will be changed to 'auto' in 0.22. Specify the multi_class option to silence this warning.\n",
            "  \"this warning.\", FutureWarning)\n"
          ],
          "name": "stderr"
        },
        {
          "output_type": "display_data",
          "data": {
            "image/png": "[encoded data removed]",
            "text/plain": [
              "<Figure size 576x396 with 1 Axes>"
            ]
          },
          "metadata": {
            "tags": []
          }
        }
      ]
    },
    {
      "cell_type": "code",
      "metadata": {
        "id": "oeY1PI5BUFyQ",
        "colab_type": "code",
        "outputId": "a219e58d-b08c-4610-ae2c-4eddc0f9be85",
        "colab": {
          "base_uri": "https://localhost:8080/",
          "height": 51
        }
      },
      "source": [
        "from sklearn.ensemble import RandomForestClassifier\n",
        "rf = RandomForestClassifier()\n",
        "rf.fit(X_train, y_train)\n",
        "rf_predict=rf.predict(X_test)"
      ],
      "execution_count": 0,
      "outputs": [
        {
          "output_type": "stream",
          "text": [
            "/usr/local/lib/python3.6/dist-packages/sklearn/ensemble/forest.py:246: FutureWarning: The default value of n_estimators will change from 10 in version 0.20 to 100 in 0.22.\n",
            "  \"10 in version 0.20 to 100 in 0.22.\", FutureWarning)\n"
          ],
          "name": "stderr"
        }
      ]
    },
    {
      "cell_type": "code",
      "metadata": {
        "id": "iGk-JqbEWX8m",
        "colab_type": "code",
        "colab": {}
      },
      "source": [
        "from sklearn.linear_model import LogisticRegression\n",
        "from sklearn.metrics import confusion_matrix, accuracy_score"
      ],
      "execution_count": 0,
      "outputs": []
    },
    {
      "cell_type": "code",
      "metadata": {
        "id": "OrQRHBpWVZZn",
        "colab_type": "code",
        "outputId": "7ba11056-c4fd-4af8-ced2-72960892d4a4",
        "colab": {
          "base_uri": "https://localhost:8080/",
          "height": 204
        }
      },
      "source": [
        "rf_conf_matrix = confusion_matrix(y_test, rf_predict)\n",
        "rf_acc_score = accuracy_score(y_test, rf_predict)\n",
        "print(rf_conf_matrix)\n",
        "print(rf_acc_score*100)"
      ],
      "execution_count": 0,
      "outputs": [
        {
          "output_type": "stream",
          "text": [
            "[[40  0  0  0  1  0  0  1  1  0]\n",
            " [ 0 34  0  0  0  0  0  0  0  1]\n",
            " [ 0  0 35  0  0  0  0  1  0  0]\n",
            " [ 0  0  1 36  0  1  0  0  1  2]\n",
            " [ 0  0  0  0 38  0  0  0  0  0]\n",
            " [ 0  2  0  0  0 27  0  0  1  0]\n",
            " [ 0  0  0  0  0  0 37  0  0  0]\n",
            " [ 0  0  0  0  0  0  0 37  0  0]\n",
            " [ 0  1  1  1  0  1  0  0 25  0]\n",
            " [ 0  1  0  1  0  0  0  1  1 30]]\n",
            "94.16666666666667\n"
          ],
          "name": "stdout"
        }
      ]
    },
    {
      "cell_type": "markdown",
      "metadata": {
        "id": "s8WFPhRBkOvj",
        "colab_type": "text"
      },
      "source": [
        "### ROCAUC"
      ]
    },
    {
      "cell_type": "markdown",
      "metadata": {
        "id": "rGkqrpnOlzRn",
        "colab_type": "text"
      },
      "source": [
        "http://www.scikit-yb.org/en/latest/api/classifier/rocauc.html\n"
      ]
    },
    {
      "cell_type": "code",
      "metadata": {
        "id": "UBYybshikrvW",
        "colab_type": "code",
        "outputId": "d0f0d14d-9f89-497e-dee6-3104491fe7d7",
        "colab": {
          "base_uri": "https://localhost:8080/",
          "height": 444
        }
      },
      "source": [
        "from yellowbrick.classifier import ROCAUC\n",
        "from sklearn.linear_model import LogisticRegression\n",
        "\n",
        "model = LogisticRegression()\n",
        "classes=[0,1,2,3,4,5,6,7,8,9]\n",
        "\n",
        "# Instantiate the visualizer with the classification model\n",
        "visualizer = ROCAUC(model, classes=classes)\n",
        "\n",
        "visualizer.fit(X_train, y_train)  # Fit the training data to the visualizer\n",
        "visualizer.score(X_test, y_test)  # Evaluate the model on the test data\n",
        "g = visualizer.poof()             # Draw/show/poof the data"
      ],
      "execution_count": 0,
      "outputs": [
        {
          "output_type": "stream",
          "text": [
            "/usr/local/lib/python3.6/dist-packages/sklearn/linear_model/logistic.py:433: FutureWarning: Default solver will be changed to 'lbfgs' in 0.22. Specify a solver to silence this warning.\n",
            "  FutureWarning)\n",
            "/usr/local/lib/python3.6/dist-packages/sklearn/linear_model/logistic.py:460: FutureWarning: Default multi_class will be changed to 'auto' in 0.22. Specify the multi_class option to silence this warning.\n",
            "  \"this warning.\", FutureWarning)\n"
          ],
          "name": "stderr"
        },
        {
          "output_type": "display_data",
          "data": {
            "image/png": "[encoded data removed]",
            "text/plain": [
              "<Figure size 576x396 with 1 Axes>"
            ]
          },
          "metadata": {
            "tags": []
          }
        }
      ]
    },
    {
      "cell_type": "code",
      "metadata": {
        "id": "iUauUAHfYCzN",
        "colab_type": "code",
        "outputId": "cac99456-f939-41b2-b3d5-da7f7b86f397",
        "colab": {
          "base_uri": "https://localhost:8080/",
          "height": 85
        }
      },
      "source": [
        "from sklearn.linear_model import LogisticRegression\n",
        "from sklearn.metrics import confusion_matrix, accuracy_score\n",
        "lr = LogisticRegression()\n",
        "lr.fit(X_train, y_train)\n",
        "lr_predict = lr.predict(X_test)"
      ],
      "execution_count": 0,
      "outputs": [
        {
          "output_type": "stream",
          "text": [
            "/usr/local/lib/python3.6/dist-packages/sklearn/linear_model/logistic.py:433: FutureWarning: Default solver will be changed to 'lbfgs' in 0.22. Specify a solver to silence this warning.\n",
            "  FutureWarning)\n",
            "/usr/local/lib/python3.6/dist-packages/sklearn/linear_model/logistic.py:460: FutureWarning: Default multi_class will be changed to 'auto' in 0.22. Specify the multi_class option to silence this warning.\n",
            "  \"this warning.\", FutureWarning)\n"
          ],
          "name": "stderr"
        }
      ]
    },
    {
      "cell_type": "code",
      "metadata": {
        "id": "joSaX95UYN6b",
        "colab_type": "code",
        "outputId": "78d7838d-7502-420d-ad4e-26340c776908",
        "colab": {
          "base_uri": "https://localhost:8080/",
          "height": 204
        }
      },
      "source": [
        "lr_conf_matrix = confusion_matrix(y_test, lr_predict)\n",
        "lr_acc_score = accuracy_score(y_test, lr_predict)\n",
        "print(lr_conf_matrix)\n",
        "print(lr_acc_score*100)"
      ],
      "execution_count": 0,
      "outputs": [
        {
          "output_type": "stream",
          "text": [
            "[[42  0  0  0  1  0  0  0  0  0]\n",
            " [ 0 34  0  0  0  0  0  0  1  0]\n",
            " [ 0  0 35  1  0  0  0  0  0  0]\n",
            " [ 0  0  0 39  0  0  0  0  1  1]\n",
            " [ 0  0  0  0 38  0  0  0  0  0]\n",
            " [ 0  0  0  1  0 29  0  0  0  0]\n",
            " [ 0  0  0  0  0  0 37  0  0  0]\n",
            " [ 0  0  0  0  0  0  0 36  0  1]\n",
            " [ 0  0  0  0  0  1  0  0 27  1]\n",
            " [ 0  0  0  0  0  1  0  0  1 32]]\n",
            "96.94444444444444\n"
          ],
          "name": "stdout"
        }
      ]
    },
    {
      "cell_type": "markdown",
      "metadata": {
        "id": "2pZOr1VrXYUO",
        "colab_type": "text"
      },
      "source": [
        "## Conclusion"
      ]
    },
    {
      "cell_type": "markdown",
      "metadata": {
        "id": "gn3ATlxZXbrB",
        "colab_type": "text"
      },
      "source": [
        "- Among all the model tested logistic regression model has the highest accuracy of 96.94%.\n",
        "- 0, 1, 2, 4, 6 tend to have a higher accuracy compare to other number in this test. 9 has the least accuracy in all models we need to put more training on this number.\n"
      ]
    }
  ]
}